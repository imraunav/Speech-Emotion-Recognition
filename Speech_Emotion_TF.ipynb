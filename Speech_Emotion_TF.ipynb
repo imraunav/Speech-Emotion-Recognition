{
  "nbformat": 4,
  "nbformat_minor": 0,
  "metadata": {
    "colab": {
      "provenance": [],
      "gpuType": "T4",
      "authorship_tag": "ABX9TyNLu1rW0GWzXjVHIzG7i6IS",
      "include_colab_link": true
    },
    "kernelspec": {
      "name": "python3",
      "display_name": "Python 3"
    },
    "language_info": {
      "name": "python"
    },
    "accelerator": "GPU"
  },
  "cells": [
    {
      "cell_type": "markdown",
      "metadata": {
        "id": "view-in-github",
        "colab_type": "text"
      },
      "source": [
        "<a href=\"https://colab.research.google.com/github/imraunav/Speech-Emotion-Recognition/blob/main/Speech_Emotion_TF.ipynb\" target=\"_parent\"><img src=\"https://colab.research.google.com/assets/colab-badge.svg\" alt=\"Open In Colab\"/></a>"
      ]
    },
    {
      "cell_type": "markdown",
      "source": [
        "Download files from google drive using terminal commands"
      ],
      "metadata": {
        "id": "PAaum_Y4xFJo"
      }
    },
    {
      "cell_type": "code",
      "execution_count": 1,
      "metadata": {
        "colab": {
          "base_uri": "https://localhost:8080/"
        },
        "id": "5OjU9rsPw83Z",
        "outputId": "c7ec40b5-3132-40ca-bf8d-7ec868f08cc7"
      },
      "outputs": [
        {
          "output_type": "stream",
          "name": "stdout",
          "text": [
            "Downloading...\n",
            "From: https://drive.google.com/u/0/uc?id=1wWsrN2Ep7x6lWqOXfr4rpKGYrJhWc8z7\n",
            "To: /content/speech-emotion-recognition-ravdess-data.zip\n",
            "100% 78.1M/78.1M [00:01<00:00, 55.5MB/s]\n"
          ]
        }
      ],
      "source": [
        "!gdown https://drive.google.com/u/0/uc?id=1wWsrN2Ep7x6lWqOXfr4rpKGYrJhWc8z7  # for files\n",
        "# gdown <file_id>                                 # alternative format\n",
        "# gdown --folder https://drive.google.com/drive/folders/<file_id>  # for folders\n",
        "# gdown --folder --id <file_id>"
      ]
    },
    {
      "cell_type": "code",
      "source": [
        "!unzip speech-emotion-recognition-ravdess-data.zip > op # suppressing the terminal output"
      ],
      "metadata": {
        "id": "ORv8JoxdxSbB"
      },
      "execution_count": 2,
      "outputs": []
    },
    {
      "cell_type": "code",
      "source": [
        "import librosa\n",
        "import soundfile\n",
        "import os, glob, pickle\n",
        "import numpy as np\n",
        "from sklearn.model_selection import train_test_split"
      ],
      "metadata": {
        "id": "lNG3g1eVxT58"
      },
      "execution_count": 3,
      "outputs": []
    },
    {
      "cell_type": "code",
      "source": [
        "from tqdm import tqdm"
      ],
      "metadata": {
        "id": "gFd-ga4dxVI4"
      },
      "execution_count": 10,
      "outputs": []
    },
    {
      "cell_type": "code",
      "source": [
        "def extract_feature(filename, mfcc, chroma, mel):\n",
        "  with soundfile.SoundFile(filename) as sound_file:\n",
        "    X = sound_file.read(dtype=\"float32\")\n",
        "    sample_rate=sound_file.samplerate # sampling rate of the sound file\n",
        "    if chroma==True:\n",
        "        stft=np.abs(librosa.stft(X))\n",
        "    result=np.array([])\n",
        "    if mfcc==True:\n",
        "        mfccs=np.mean(librosa.feature.mfcc(y=X, sr=sample_rate, n_mfcc=40).T, axis=0)\n",
        "        result=np.hstack((result, mfccs))\n",
        "    if chroma==True:\n",
        "        chroma=np.mean(librosa.feature.chroma_stft(S=stft, sr=sample_rate).T,axis=0)\n",
        "        result=np.hstack((result, chroma))\n",
        "    if mel==True:\n",
        "        mel=np.mean(librosa.feature.melspectrogram(y=X, sr=sample_rate).T,axis=0)\n",
        "        result=np.hstack((result, mel))\n",
        "  return result"
      ],
      "metadata": {
        "id": "NbjJ6R23xcG-"
      },
      "execution_count": 4,
      "outputs": []
    },
    {
      "cell_type": "code",
      "source": [
        "emotions={\n",
        "  '01':'neutral',\n",
        "  '02':'calm',\n",
        "  '03':'happy',\n",
        "  '04':'sad',\n",
        "  '05':'angry',\n",
        "  '06':'fearful',\n",
        "  '07':'disgust',\n",
        "  '08':'surprised'\n",
        "}"
      ],
      "metadata": {
        "id": "8Yv0-87-xdeE"
      },
      "execution_count": 5,
      "outputs": []
    },
    {
      "cell_type": "code",
      "source": [
        "observed_emotions=['calm', 'happy', 'fearful', 'disgust']"
      ],
      "metadata": {
        "id": "WCW0v1Muxe1l"
      },
      "execution_count": 6,
      "outputs": []
    },
    {
      "cell_type": "code",
      "source": [
        "class_encode = {\n",
        "    'calm': [1, 0, 0, 0],\n",
        "    'happy': [0, 1, 0, 0],\n",
        "    'fearful': [0, 0, 1, 0],\n",
        "    'disgust': [0, 0, 0, 1],\n",
        "}"
      ],
      "metadata": {
        "id": "PmvLPBQNxhIy"
      },
      "execution_count": 7,
      "outputs": []
    },
    {
      "cell_type": "code",
      "source": [
        "def load_data(test_size=0.2):\n",
        "    x,y=[],[]\n",
        "    for file in tqdm(glob.glob(\"Actor_*/*.wav\")):\n",
        "        file_name=os.path.basename(file)\n",
        "        emotion=emotions[file_name.split(\"-\")[2]]\n",
        "        if emotion not in observed_emotions:\n",
        "            continue\n",
        "        feature=extract_feature(file, mfcc=True, chroma=True, mel=True)\n",
        "        x.append(feature)\n",
        "        y.append(class_encode[emotion])\n",
        "    return train_test_split(np.array(x), y, test_size=test_size, random_state=9)"
      ],
      "metadata": {
        "id": "HKCiWcOpxi2Y"
      },
      "execution_count": 8,
      "outputs": []
    },
    {
      "cell_type": "code",
      "source": [
        "x_train,x_test,y_train,y_test=load_data(test_size=0.25)\n"
      ],
      "metadata": {
        "colab": {
          "base_uri": "https://localhost:8080/"
        },
        "id": "HYTeEYnsxkxn",
        "outputId": "05e47924-a48c-4de9-f3a7-7149e1237aea"
      },
      "execution_count": 11,
      "outputs": [
        {
          "output_type": "stream",
          "name": "stderr",
          "text": [
            "100%|██████████| 1440/1440 [00:40<00:00, 35.26it/s]\n"
          ]
        }
      ]
    },
    {
      "cell_type": "code",
      "source": [
        "import tensorflow as tf\n",
        "\n",
        "x_train = tf.data.Dataset.from_tensor_slices(x_train)\n",
        "x_test = tf.data.Dataset.from_tensor_slices(x_test)\n",
        "y_train = tf.data.Dataset.from_tensor_slices(y_train)\n",
        "y_test = tf.data.Dataset.from_tensor_slices(y_test)\n",
        "\n",
        "train_ds = tf.data.Dataset.zip((x_train, y_train))\n",
        "test_ds = tf.data.Dataset.zip((x_test, y_test))"
      ],
      "metadata": {
        "id": "oOZ_9blwxmXc"
      },
      "execution_count": 14,
      "outputs": []
    },
    {
      "cell_type": "markdown",
      "source": [
        "The model"
      ],
      "metadata": {
        "id": "T53RYWZXyVrG"
      }
    },
    {
      "cell_type": "code",
      "source": [
        "from tensorflow import keras"
      ],
      "metadata": {
        "id": "RHW8m1piy1C8"
      },
      "execution_count": 15,
      "outputs": []
    },
    {
      "cell_type": "code",
      "source": [
        "def build_FCNN():\n",
        "  inputs = keras.Input(shape=(180,))\n",
        "  l1 = keras.layers.Dense(256, activation='tanh')(inputs)\n",
        "  l2 = keras.layers.Dense(128, activation='tanh')(l1)\n",
        "  l3 = keras.layers.Dense(4, activation='softmax')(l2)\n",
        "  return keras.Model(inputs=[inputs], outputs=[l3])\n",
        "\n"
      ],
      "metadata": {
        "id": "UhlcJ6_bx9BZ"
      },
      "execution_count": 16,
      "outputs": []
    },
    {
      "cell_type": "code",
      "source": [
        "classifier = build_FCNN()\n",
        "classifier.summary()"
      ],
      "metadata": {
        "colab": {
          "base_uri": "https://localhost:8080/"
        },
        "id": "jccUAVHhz9Vd",
        "outputId": "ed8ad599-cfc3-4ab3-afac-9ad988aecef2"
      },
      "execution_count": 29,
      "outputs": [
        {
          "output_type": "stream",
          "name": "stdout",
          "text": [
            "Model: \"model_2\"\n",
            "_________________________________________________________________\n",
            " Layer (type)                Output Shape              Param #   \n",
            "=================================================================\n",
            " input_3 (InputLayer)        [(None, 180)]             0         \n",
            "                                                                 \n",
            " dense_6 (Dense)             (None, 256)               46336     \n",
            "                                                                 \n",
            " dense_7 (Dense)             (None, 128)               32896     \n",
            "                                                                 \n",
            " dense_8 (Dense)             (None, 4)                 516       \n",
            "                                                                 \n",
            "=================================================================\n",
            "Total params: 79748 (311.52 KB)\n",
            "Trainable params: 79748 (311.52 KB)\n",
            "Non-trainable params: 0 (0.00 Byte)\n",
            "_________________________________________________________________\n"
          ]
        }
      ]
    },
    {
      "cell_type": "code",
      "source": [
        "classifier.compile(\n",
        "    optimizer=keras.optimizers.Adam(),\n",
        "    loss=keras.losses.CategoricalCrossentropy(),\n",
        "    metrics=['Accuracy']\n",
        ")"
      ],
      "metadata": {
        "id": "mDuwDDUy0Cv9"
      },
      "execution_count": 30,
      "outputs": []
    },
    {
      "cell_type": "code",
      "source": [
        "log = classifier.fit(train_ds.batch(8), shuffle=True, epochs=1000, verbose=0)"
      ],
      "metadata": {
        "id": "1FsKO86c0fH9"
      },
      "execution_count": 31,
      "outputs": []
    },
    {
      "cell_type": "code",
      "source": [
        "from matplotlib import pyplot as plt\n",
        "\n",
        "plt.plot(log.history[\"loss\"])\n",
        "plt.xlabel(\"Epochs\")\n",
        "plt.ylabel(\"Loss\")\n",
        "plt.title(\"Training loss over epoch\")\n",
        "plt.show()"
      ],
      "metadata": {
        "colab": {
          "base_uri": "https://localhost:8080/",
          "height": 472
        },
        "id": "FXYUCVrg1Hbi",
        "outputId": "2e7e7631-4802-48b7-b1c3-1ac6a619b361"
      },
      "execution_count": 32,
      "outputs": [
        {
          "output_type": "display_data",
          "data": {
            "text/plain": [
              "<Figure size 640x480 with 1 Axes>"
            ],
            "image/png": "[encoded data removed]"
          },
          "metadata": {}
        }
      ]
    },
    {
      "cell_type": "code",
      "source": [
        "loss, acc = classifier.evaluate(test_ds.batch(1))\n",
        "print(f\"Avg. loss on test data: {loss}\")\n",
        "print(f\"Accuracy : {acc}\")"
      ],
      "metadata": {
        "colab": {
          "base_uri": "https://localhost:8080/"
        },
        "id": "J2g6jN3f1NXt",
        "outputId": "1598d99b-9a50-4611-f897-cd0c3c0953f4"
      },
      "execution_count": 33,
      "outputs": [
        {
          "output_type": "stream",
          "name": "stdout",
          "text": [
            "192/192 [==============================] - 1s 3ms/step - loss: 1.8466 - Accuracy: 0.6510\n",
            "Avg. loss on test data: 1.846591830253601\n",
            "Accuracy : 0.6510416865348816\n"
          ]
        }
      ]
    },
    {
      "cell_type": "code",
      "source": [],
      "metadata": {
        "id": "0aRW9jYG11lk"
      },
      "execution_count": null,
      "outputs": []
    }
  ]
}
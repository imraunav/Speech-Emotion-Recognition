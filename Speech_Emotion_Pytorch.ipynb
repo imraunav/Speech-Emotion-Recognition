{
  "nbformat": 4,
  "nbformat_minor": 0,
  "metadata": {
    "colab": {
      "provenance": [],
      "gpuType": "T4",
      "authorship_tag": "ABX9TyPAx8IefvVmOZZdzVdaxLg/",
      "include_colab_link": true
    },
    "kernelspec": {
      "name": "python3",
      "display_name": "Python 3"
    },
    "language_info": {
      "name": "python"
    },
    "accelerator": "GPU"
  },
  "cells": [
    {
      "cell_type": "markdown",
      "metadata": {
        "id": "view-in-github",
        "colab_type": "text"
      },
      "source": [
        "<a href=\"https://colab.research.google.com/github/imraunav/Speech-Emotion-Recognition/blob/main/Speech_Emotion_Pytorch.ipynb\" target=\"_parent\"><img src=\"https://colab.research.google.com/assets/colab-badge.svg\" alt=\"Open In Colab\"/></a>"
      ]
    },
    {
      "cell_type": "markdown",
      "source": [
        "Download files from google drive using terminal commands"
      ],
      "metadata": {
        "id": "BUkyVibi0yP4"
      }
    },
    {
      "cell_type": "code",
      "execution_count": 3,
      "metadata": {
        "colab": {
          "base_uri": "https://localhost:8080/"
        },
        "id": "x9d4WOBhz-X_",
        "outputId": "143592e3-cbf4-45e9-df56-6d175288ec14"
      },
      "outputs": [
        {
          "output_type": "stream",
          "name": "stdout",
          "text": [
            "Downloading...\n",
            "From: https://drive.google.com/u/0/uc?id=1wWsrN2Ep7x6lWqOXfr4rpKGYrJhWc8z7\n",
            "To: /content/speech-emotion-recognition-ravdess-data.zip\n",
            "100% 78.1M/78.1M [00:00<00:00, 93.4MB/s]\n"
          ]
        }
      ],
      "source": [
        "!gdown https://drive.google.com/u/0/uc?id=1wWsrN2Ep7x6lWqOXfr4rpKGYrJhWc8z7  # for files\n",
        "# gdown <file_id>                                 # alternative format\n",
        "# gdown --folder https://drive.google.com/drive/folders/<file_id>  # for folders\n",
        "# gdown --folder --id <file_id>"
      ]
    },
    {
      "cell_type": "code",
      "source": [
        "!unzip speech-emotion-recognition-ravdess-data.zip > op # suppressing the terminal output"
      ],
      "metadata": {
        "id": "qHhx2ZYA0waG"
      },
      "execution_count": 4,
      "outputs": []
    },
    {
      "cell_type": "code",
      "source": [
        "import librosa\n",
        "import soundfile\n",
        "import os, glob, pickle\n",
        "import numpy as np\n",
        "from sklearn.model_selection import train_test_split"
      ],
      "metadata": {
        "id": "nsOR9BkU1ixn"
      },
      "execution_count": 5,
      "outputs": []
    },
    {
      "cell_type": "code",
      "source": [
        "from tqdm import tqdm"
      ],
      "metadata": {
        "id": "DXhoagap1lw6"
      },
      "execution_count": 6,
      "outputs": []
    },
    {
      "cell_type": "code",
      "source": [
        "def extract_feature(filename, mfcc, chroma, mel):\n",
        "  with soundfile.SoundFile(filename) as sound_file:\n",
        "    X = sound_file.read(dtype=\"float32\")\n",
        "    sample_rate=sound_file.samplerate # sampling rate of the sound file\n",
        "    if chroma==True:\n",
        "        stft=np.abs(librosa.stft(X))\n",
        "    result=np.array([])\n",
        "    if mfcc==True:\n",
        "        mfccs=np.mean(librosa.feature.mfcc(y=X, sr=sample_rate, n_mfcc=40).T, axis=0)\n",
        "        result=np.hstack((result, mfccs))\n",
        "    if chroma==True:\n",
        "        chroma=np.mean(librosa.feature.chroma_stft(S=stft, sr=sample_rate).T,axis=0)\n",
        "        result=np.hstack((result, chroma))\n",
        "    if mel==True:\n",
        "        mel=np.mean(librosa.feature.melspectrogram(y=X, sr=sample_rate).T,axis=0)\n",
        "        result=np.hstack((result, mel))\n",
        "  return result"
      ],
      "metadata": {
        "id": "CgzazwmX1--S"
      },
      "execution_count": 7,
      "outputs": []
    },
    {
      "cell_type": "code",
      "source": [
        "emotions={\n",
        "  '01':'neutral',\n",
        "  '02':'calm',\n",
        "  '03':'happy',\n",
        "  '04':'sad',\n",
        "  '05':'angry',\n",
        "  '06':'fearful',\n",
        "  '07':'disgust',\n",
        "  '08':'surprised'\n",
        "}"
      ],
      "metadata": {
        "id": "u0ZAgwzX2A_t"
      },
      "execution_count": 8,
      "outputs": []
    },
    {
      "cell_type": "code",
      "source": [
        "observed_emotions=['calm', 'happy', 'fearful', 'disgust']"
      ],
      "metadata": {
        "id": "zMbpBoYD2ClI"
      },
      "execution_count": 9,
      "outputs": []
    },
    {
      "cell_type": "code",
      "source": [
        "class_encode = {\n",
        "    'calm': [1, 0, 0, 0],\n",
        "    'happy': [0, 1, 0, 0],\n",
        "    'fearful': [0, 0, 1, 0],\n",
        "    'disgust': [0, 0, 0, 1],\n",
        "}"
      ],
      "metadata": {
        "id": "04lO9D5i9lyL"
      },
      "execution_count": 27,
      "outputs": []
    },
    {
      "cell_type": "code",
      "source": [
        "def load_data(test_size=0.2):\n",
        "    x,y=[],[]\n",
        "    for file in tqdm(glob.glob(\"Actor_*/*.wav\")):\n",
        "        file_name=os.path.basename(file)\n",
        "        emotion=emotions[file_name.split(\"-\")[2]]\n",
        "        if emotion not in observed_emotions:\n",
        "            continue\n",
        "        feature=extract_feature(file, mfcc=True, chroma=True, mel=True)\n",
        "        x.append(feature)\n",
        "        y.append(class_encode[emotion])\n",
        "    return train_test_split(np.array(x), y, test_size=test_size, random_state=9)"
      ],
      "metadata": {
        "id": "0DcyxkJo2D-a"
      },
      "execution_count": 28,
      "outputs": []
    },
    {
      "cell_type": "code",
      "source": [
        "x_train,x_test,y_train,y_test=load_data(test_size=0.25)"
      ],
      "metadata": {
        "colab": {
          "base_uri": "https://localhost:8080/"
        },
        "id": "3jN2WzcJ2FkZ",
        "outputId": "4097eabd-7577-4c18-e75f-9ec825296a8c"
      },
      "execution_count": 29,
      "outputs": [
        {
          "output_type": "stream",
          "name": "stderr",
          "text": [
            "100%|██████████| 1440/1440 [00:27<00:00, 51.63it/s]\n"
          ]
        }
      ]
    },
    {
      "cell_type": "code",
      "source": [
        "from torch.utils.data import Dataset, DataLoader, TensorDataset\n",
        "import torch"
      ],
      "metadata": {
        "id": "eA1mcdGG6aJ5"
      },
      "execution_count": 30,
      "outputs": []
    },
    {
      "cell_type": "code",
      "source": [
        "# y_train"
      ],
      "metadata": {
        "id": "_zyexR1F8T6Q"
      },
      "execution_count": 31,
      "outputs": []
    },
    {
      "cell_type": "code",
      "source": [
        "# class MyDataset(Dataset):\n",
        "#   def __init__(self, labels, ):\n",
        "#     self.labels = labels\n",
        "#     self.features = features\n",
        "\n",
        "#   def __len__(self):\n",
        "#     return len(self.labels)\n",
        "\n",
        "#   def __getitem__(self, idx):\n",
        "#     if torch.is_tensor(idx):\n",
        "#       idx = idx.tolist()\n",
        "\n",
        "#     return sample\n",
        "x_train = torch.Tensor(x_train)\n",
        "y_train = torch.Tensor(y_train)\n",
        "\n",
        "x_test = torch.Tensor(x_test)\n",
        "y_test = torch.Tensor(y_test)\n",
        "\n",
        "trainDataset = TensorDataset(x_train, y_train)\n",
        "testDataset = TensorDataset(x_test, y_test)\n",
        "\n",
        "trainDataloader = DataLoader(trainDataset, batch_size=8, shuffle=True)\n",
        "testDataloader = DataLoader(testDataset)"
      ],
      "metadata": {
        "id": "ZPGtYSbA2HPb"
      },
      "execution_count": 32,
      "outputs": []
    },
    {
      "cell_type": "markdown",
      "source": [
        "The model"
      ],
      "metadata": {
        "id": "mhXmnk_M-Nd2"
      }
    },
    {
      "cell_type": "code",
      "source": [
        "from torch import nn\n",
        "from torch.nn import functional as F"
      ],
      "metadata": {
        "id": "Lf_EJyoh8aDe"
      },
      "execution_count": 33,
      "outputs": []
    },
    {
      "cell_type": "code",
      "source": [
        "x_train.shape, x_test.shape"
      ],
      "metadata": {
        "colab": {
          "base_uri": "https://localhost:8080/"
        },
        "id": "IzOWe9TX-4K9",
        "outputId": "a5699c8d-0a44-45f0-e13a-3b2234a305c5"
      },
      "execution_count": 34,
      "outputs": [
        {
          "output_type": "execute_result",
          "data": {
            "text/plain": [
              "(torch.Size([576, 180]), torch.Size([192, 180]))"
            ]
          },
          "metadata": {},
          "execution_count": 34
        }
      ]
    },
    {
      "cell_type": "code",
      "source": [
        "class FCNN(nn.Module):\n",
        "  def __init__(self):\n",
        "    super().__init__()\n",
        "    self.l1 = nn.Linear(in_features=180, out_features=256)\n",
        "    self.act1 = nn.Tanh()\n",
        "    self.l2 = nn.Linear(in_features=256, out_features=128)\n",
        "    self.act2 = nn.Tanh()\n",
        "    self.l3 = nn.Linear(in_features=128, out_features=4)\n",
        "    self.act3 = nn.Softmax(dim=1)\n",
        "  def forward(self, x):\n",
        "    x = self.l1(x)\n",
        "    # x = F.tanh(x)\n",
        "    x = self.act1(x)\n",
        "    x = self.l2(x)\n",
        "    # x = F.tanh(x)\n",
        "    x = self.act2(x)\n",
        "    x = self.l3(x)\n",
        "    # x = F.softmax(x, dim=1)\n",
        "    x = self.act2(x)\n",
        "    return x"
      ],
      "metadata": {
        "id": "lJDt5A2z-gta"
      },
      "execution_count": 35,
      "outputs": []
    },
    {
      "cell_type": "code",
      "source": [
        "random_data = torch.rand((1, 180))\n",
        "\n",
        "classifier = FCNN()\n",
        "result = classifier(random_data)\n",
        "print(result)"
      ],
      "metadata": {
        "colab": {
          "base_uri": "https://localhost:8080/"
        },
        "id": "0SNNGlYdA1l9",
        "outputId": "6ea393fb-459a-43b6-8e81-92350c09e40d"
      },
      "execution_count": 36,
      "outputs": [
        {
          "output_type": "stream",
          "name": "stdout",
          "text": [
            "tensor([[-0.2057,  0.1370, -0.2263,  0.0571]], grad_fn=<TanhBackward0>)\n"
          ]
        }
      ]
    },
    {
      "cell_type": "code",
      "source": [
        "print(classifier)"
      ],
      "metadata": {
        "colab": {
          "base_uri": "https://localhost:8080/"
        },
        "id": "3jJrq1tfA-Ss",
        "outputId": "efb81755-fd83-421e-cb52-26b8d511a4a9"
      },
      "execution_count": 37,
      "outputs": [
        {
          "output_type": "stream",
          "name": "stdout",
          "text": [
            "FCNN(\n",
            "  (l1): Linear(in_features=180, out_features=256, bias=True)\n",
            "  (act1): Tanh()\n",
            "  (l2): Linear(in_features=256, out_features=128, bias=True)\n",
            "  (act2): Tanh()\n",
            "  (l3): Linear(in_features=128, out_features=4, bias=True)\n",
            "  (act3): Softmax(dim=1)\n",
            ")\n"
          ]
        }
      ]
    },
    {
      "cell_type": "code",
      "source": [
        "device = torch.device(\"cuda\") if torch.cuda.is_available() else torch.device(\"cpu\")\n",
        "print(\"Device\", device)"
      ],
      "metadata": {
        "colab": {
          "base_uri": "https://localhost:8080/"
        },
        "id": "g4a18UjKBmJe",
        "outputId": "bf35c399-00ef-4c03-df9e-b73ac1c92bc9"
      },
      "execution_count": 38,
      "outputs": [
        {
          "output_type": "stream",
          "name": "stdout",
          "text": [
            "Device cuda\n"
          ]
        }
      ]
    },
    {
      "cell_type": "code",
      "source": [
        "classifier.to(device)"
      ],
      "metadata": {
        "colab": {
          "base_uri": "https://localhost:8080/"
        },
        "id": "8rxAPn8RCmeo",
        "outputId": "ed16a711-3ea3-4626-99c2-5e49ba095b7d"
      },
      "execution_count": 39,
      "outputs": [
        {
          "output_type": "execute_result",
          "data": {
            "text/plain": [
              "FCNN(\n",
              "  (l1): Linear(in_features=180, out_features=256, bias=True)\n",
              "  (act1): Tanh()\n",
              "  (l2): Linear(in_features=256, out_features=128, bias=True)\n",
              "  (act2): Tanh()\n",
              "  (l3): Linear(in_features=128, out_features=4, bias=True)\n",
              "  (act3): Softmax(dim=1)\n",
              ")"
            ]
          },
          "metadata": {},
          "execution_count": 39
        }
      ]
    },
    {
      "cell_type": "code",
      "source": [
        "def train_model(model, optimizer, data_loader, loss_module, num_epochs=100):\n",
        "    # Set model to train mode\n",
        "    model.train()\n",
        "\n",
        "    # Training loop\n",
        "    loss_per_epoch = []\n",
        "    for epoch in tqdm(range(num_epochs)):\n",
        "        # print(f\"Epoch: {epoch+1}/{num_epochs} \")\n",
        "        running_loss = 0\n",
        "        samples_per_batch = 0\n",
        "        for data_inputs, data_labels in data_loader:\n",
        "\n",
        "            # Step 1: Move input data to device (only strictly necessary if we use GPU)\n",
        "            data_inputs = data_inputs.to(device)\n",
        "            # data_labels = data_labels.type(int)\n",
        "            data_labels = data_labels.to(device)\n",
        "\n",
        "            # Step 2: Run the model on the input data\n",
        "            preds = model(data_inputs)\n",
        "\n",
        "            # Step 3: Calculate the loss\n",
        "            loss = loss_module(preds, data_labels)\n",
        "            # loss_per_update.append(loss)\n",
        "\n",
        "            # Step 4: Perform backpropagation\n",
        "            # Before calculating the gradients, we need to ensure that they are all zero.\n",
        "            # The gradients would not be overwritten, but actually added to the existing ones.\n",
        "            optimizer.zero_grad()\n",
        "            # Perform backpropagation\n",
        "            loss.backward()\n",
        "\n",
        "            # Step 5: Update the parameters\n",
        "            optimizer.step()\n",
        "            running_loss += loss.item()\n",
        "            samples_per_batch += 1\n",
        "        loss_per_epoch.append(running_loss/samples_per_batch)\n",
        "    return loss_per_epoch"
      ],
      "metadata": {
        "id": "k1df_sz0CuSR"
      },
      "execution_count": 40,
      "outputs": []
    },
    {
      "cell_type": "code",
      "source": [
        "loss = nn.CrossEntropyLoss()\n",
        "optimizer = torch.optim.Adam(classifier.parameters())\n",
        "loss = train_model(classifier, optimizer, trainDataloader, loss, num_epochs=500)"
      ],
      "metadata": {
        "colab": {
          "base_uri": "https://localhost:8080/"
        },
        "id": "RmvgipLtC3ps",
        "outputId": "eda097ea-ff70-463e-f06d-ac49c501c48a"
      },
      "execution_count": 41,
      "outputs": [
        {
          "output_type": "stream",
          "name": "stderr",
          "text": [
            "100%|██████████| 500/500 [01:01<00:00,  8.14it/s]\n"
          ]
        }
      ]
    },
    {
      "cell_type": "code",
      "source": [
        "from matplotlib import pyplot as plt\n",
        "\n",
        "plt.plot(loss)\n",
        "plt.xlabel(\"Epochs\")\n",
        "plt.ylabel(\"Loss\")\n",
        "plt.title(\"Training loss over epoch\")\n",
        "plt.show()"
      ],
      "metadata": {
        "colab": {
          "base_uri": "https://localhost:8080/",
          "height": 472
        },
        "id": "zXlhQvBCEF2u",
        "outputId": "15a3eaae-5c39-4bc9-85c8-cd59d829510d"
      },
      "execution_count": 42,
      "outputs": [
        {
          "output_type": "display_data",
          "data": {
            "text/plain": [
              "<Figure size 640x480 with 1 Axes>"
            ],
            "image/png": "[encoded data removed]"
          },
          "metadata": {}
        }
      ]
    },
    {
      "cell_type": "code",
      "source": [],
      "metadata": {
        "id": "WbG6iwE6WQBH"
      },
      "execution_count": null,
      "outputs": []
    }
  ]
}